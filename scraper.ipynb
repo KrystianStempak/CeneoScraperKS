{
 "cells": [
  {
   "attachments": {},
   "cell_type": "markdown",
   "metadata": {},
   "source": [
    "# Ceneo Scraper"
   ]
  },
  {
   "attachments": {},
   "cell_type": "markdown",
   "metadata": {},
   "source": [
    "# Biblioteki"
   ]
  },
  {
   "cell_type": "code",
   "execution_count": 10,
   "metadata": {},
   "outputs": [],
   "source": [
    "import requests\n",
    "from bs4 import BeautifulSoup"
   ]
  },
  {
   "attachments": {},
   "cell_type": "markdown",
   "metadata": {},
   "source": [
    "## Wysłanie do sewera żądania dostępu do zasobu"
   ]
  },
  {
   "cell_type": "code",
   "execution_count": 11,
   "metadata": {},
   "outputs": [],
   "source": [
    "product_id = \"120498791\"\n",
    "url = f\"https://www.ceneo.pl/{product_id}#tab=reviews_scroll\"\n",
    "response = requests.get(url)"
   ]
  },
  {
   "cell_type": "code",
   "execution_count": 12,
   "metadata": {},
   "outputs": [
    {
     "name": "stdout",
     "output_type": "stream",
     "text": [
      "<class 'bs4.BeautifulSoup'>\n",
      "<class 'bs4.element.ResultSet'>\n",
      "<class 'bs4.element.Tag'>\n",
      "<div class=\"user-post user-post__card js_product-review\" data-entry-id=\"17802154\">\n",
      "<header class=\"user-post__header\">\n",
      "<div class=\"js_lazy user-post__avatar user-rank__avatar\" data-bg=\"/Content/img/account/avatar/5.svg\"></div>\n",
      "</header>\n",
      "<div class=\"user-post__body\">\n",
      "<div class=\"user-post__content\">\n",
      "<span class=\"user-post__author-name\">\n",
      "r...1</span>\n",
      "<span class=\"user-post__author-recomendation\">\n",
      "<em class=\"recommended\">Polecam</em>\n",
      "</span>\n",
      "<span class=\"user-post__score\">\n",
      "<span class=\"screen-reader-text\">Ocena:</span>\n",
      "<span class=\"score-container score-container--s js_score-container\">\n",
      "<span class=\"score-marker score-marker--s\" style=\"width: 90.00%;\"></span>\n",
      "</span>\n",
      "<span class=\"user-post__score-count\">4,5/5</span>\n",
      "<span class=\"user-post__published\">\n",
      "        Wystawiono\n",
      "        <time datetime=\"2023-08-14 17:38:40\">8 miesięcy temu, </time>\n",
      "<time datetime=\"2023-08-08 18:39:36\">po 6 dniach</time> użytkowania            </span>\n",
      "</span>\n",
      "<div class=\"user-post__text\">Ocena po kilku dniach użytkowania.<br>\n",
      "Blender wygląda solidnie. Kielich rzeczywiście do najlżejszych nie należy ale to szkło i to jest generalna \"wada\" szkła że jest ciężkie a nie tego konkretnego blendera. <br/>\n",
      "Nie kruszyliśmy lodu więc się nie wypowiem, robiliśmy koktajl owocowy - żadnych problemów.<br/>\n",
      "Skorzystałem również z funkcji czyszczenia - działa OK ale czy jest tak bardzo potrzebna??? no chyba że martwicie się że go włączycie i zapomnicie wyłączyć.<br/>\n",
      "Nie zauważyłem żadnego przegrzewania się ani przykrego zapachu - użyty zgodnie z instrukcją czyli nie dłużej niż 1 minuta.<br/>\n",
      "Szkoda że kielich nie jest na klik, tylko wkręcany, przez to montaż na kołnierzu zawierającym ostrza jest trochę bardziej  utrudniony, ale bez przesady. I tu jeszcze jedna rzecz, średnica ostrzy jest b zbliżona do średnicy dolnej części kielicha co powoduje że trzeba ostrożnie jedno z drugim montować, ale znowu, bez przesady. <br/>\n",
      "<br/>\n",
      "Głośność - trochę głośniejszy niż nasz stary blender, który miał 350W, no chyba że tamten był b głośny :).<br/>\n",
      "Cena tego sprzętu wydaje się niezaprzeczalną zaletą, taka moc, duża pojemność  a do tego kielich szklany i to wszystko za 2,5 stówy. <br/>\n",
      "Oby posłużył.<br/>\n",
      "</br></div>\n",
      "<div class=\"user-post__bottom\">\n",
      "</div>\n",
      "</div>\n",
      "<div class=\"user-post__info\">\n",
      "<div class=\"d-flex align-items-center justify-content-end\">\n",
      "<div class=\"js_product-review-usefulness vote\">\n",
      "<button class=\"vote-yes js_product-review-vote js_vote-yes\" data-new-icon=\"vote-up\" data-product-id=\"120498791\" data-review-id=\"17802154\" data-total-vote=\"0\" data-url=\"SetOpinionVote\" data-vote=\"1\" data-voted=\"false\"><span id=\"votes-yes-17802154\">0</span></button>\n",
      "<button class=\"vote-no js_product-review-vote js_vote-no\" data-new-icon=\"vote-down\" data-product-id=\"120498791\" data-review-id=\"17802154\" data-total-vote=\"0\" data-url=\"SetOpinionVote\" data-vote=\"0\" data-voted=\"false\"><span id=\"votes-no-17802154\">0</span></button>\n",
      "</div>\n",
      "<div class=\"dropdown-wrapper\">\n",
      "<span class=\"dots-icon-vert\" data-toggle=\"dropdown\"></span>\n",
      "<ul class=\"dropdown-menu force-left\">\n",
      "<li class=\"dropdown-menu__item\" data-product-id=\"120498791\" data-review-id=\"17802154\">\n",
      "<div class=\"js_report-abuse report-abuse cursor-pointer\" data-report-type=\"1\" role=\"button\">\n",
      "<span>\n",
      "Zgłoś    </span>\n",
      "</div>\n",
      "</li>\n",
      "</ul>\n",
      "</div>\n",
      "</div>\n",
      "<div class=\"review-pz\" data-hint=\"Opinia została napisana przez Użytkownika, który kupił produkt.\">\n",
      "<em>Transakcja pochodzi z Marketplace Ceneo (usługi Kup Teraz).</em>\n",
      "</div>\n",
      "</div>\n",
      "<div class=\"js_product-review-comments js_product-review-hook js_product-review-comments-list\" id=\"product-review-comments-17802154\">\n",
      "<a class=\"user-post js_product-review-comment-toggle\" data-comments-count=\"0\" data-product-review-id=\"120498791\" data-review-id=\"17802154\" href=\"#product-review-comment-17802154\" role=\"button\">\n",
      "</a>\n",
      "<div class=\"js_product-review-form-hook\" id=\"product-review-comment-17802154\"></div>\n",
      "</div>\n",
      "</div>\n",
      "</div>\n"
     ]
    }
   ],
   "source": [
    "page_dom = BeautifulSoup(response.text, \"html.parser\")\n",
    "print(type(page_dom))\n",
    "opinions = page_dom.select(\"div.js_product-review\")\n",
    "print(type(opinions))\n",
    "opinion = page_dom.select_one(\"div.js_product-review\")  #opinion = opinions.pop[0]\n",
    "print(type(opinion))\n",
    "print(opinion)\n"
   ]
  },
  {
   "attachments": {},
   "cell_type": "markdown",
   "metadata": {},
   "source": [
    "## Ekstrakcja składowych pojedyńczej opini\n",
    "\n",
    "|Składowa|Selektor|Zmienna|\n",
    "|........|........|.......|\n",
    "|id opinii|[\"data-entry-id\"]|opinion_id|\n",
    "|autor|span.user-post__author-name|author|\n",
    "|rekomendacja|span.user-post__author-recomendation > em|recommendation|\n",
    "|gwiazdki|span.user-post__score-count|rating|\n",
    "|treść|div.user-post__text|content|\n",
    "|lista zalet|div.review-feature__title--positives ~ div.review-feature__item|pros|\n",
    "|lista wad|div.review-feature__title--negatives ~ div.review-feature__item|cons|\n",
    "|dla ilu przydatna|button.vote-yes > span|useful|\n",
    "|dla ilu nieprzydatna|button.vote-no > span|useless|\n",
    "|data wstawienia|span.user-post__published > time:nth-child(1)[\"datetime\"]|publish_date|\n",
    "|data zakupu|span.user-post__published > time:nth-child(2)[\"datetime\"]|purchase_date|"
   ]
  },
  {
   "cell_type": "code",
   "execution_count": null,
   "metadata": {},
   "outputs": [],
   "source": [
    "opinion_id = opinion[\"data-entry-id\"]\n",
    "author = opinion.select_one(\"span.user-post__author-name\")"
   ]
  }
 ],
 "metadata": {
  "kernelspec": {
   "display_name": ".venv",
   "language": "python",
   "name": "python3"
  },
  "language_info": {
   "codemirror_mode": {
    "name": "ipython",
    "version": 3
   },
   "file_extension": ".py",
   "mimetype": "text/x-python",
   "name": "python",
   "nbconvert_exporter": "python",
   "pygments_lexer": "ipython3",
   "version": "3.11.4"
  },
  "orig_nbformat": 4
 },
 "nbformat": 4,
 "nbformat_minor": 2
}
